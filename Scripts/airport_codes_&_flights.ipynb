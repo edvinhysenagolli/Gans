{
 "cells": [
  {
   "cell_type": "markdown",
   "id": "7ff8094e-8f04-498a-9841-ed84be4974f3",
   "metadata": {},
   "source": [
    "## Airport Codes"
   ]
  },
  {
   "cell_type": "code",
   "execution_count": null,
   "id": "8f9fe835-1354-4204-8013-4d0f51ca4cc1",
   "metadata": {},
   "outputs": [],
   "source": [
    "# retrieving airport codes, to be used later for flights data\n",
    "\n",
    "def icao_airport_codes(latitudes, longitudes):\n",
    "    \n",
    "\n",
    "    #assert len(latitudes) == len(longitudes)\n",
    "    \n",
    "    \n",
    "    list_for_df = []\n",
    "\n",
    "    for index, value in enumerate(latitudes):\n",
    "        \n",
    "        url = f\"https://aerodatabox.p.rapidapi.com/airports/search/location/{value}/{longitudes[index]}/km/100/16\"\n",
    "\n",
    "        querystring = {\"withFlightInfoOnly\":\"true\"}\n",
    "\n",
    "        headers = {\n",
    "          \"X-RapidAPI-Host\": \"aerodatabox.p.rapidapi.com\",\n",
    "          \"X-RapidAPI-Key\": os.environ.get('API_key_aero')\n",
    "        }\n",
    "\n",
    "        response = requests.request(\"GET\", url, headers=headers, params=querystring)\n",
    "\n",
    "        list_for_df.append(pd.json_normalize(response.json()['items']))\n",
    "\n",
    "    \n",
    "    return pd.concat(list_for_df, ignore_index=True)"
   ]
  },
  {
   "cell_type": "code",
   "execution_count": null,
   "id": "658d1b0a-04ea-4ddf-b9b6-1c00026420bc",
   "metadata": {},
   "outputs": [],
   "source": [
    "# trial for only 3 cities\n",
    "# coordinates for Berlin, Paris, London\n",
    "\n",
    "latitudes = [52.5200, 48.8567, 51.5072]\n",
    "longitudes = [13.4050, 2.3522, -0.1275]\n",
    "\n",
    "icao_airport_codes(latitudes, longitudes)"
   ]
  },
  {
   "cell_type": "markdown",
   "id": "06663ff7-7ce0-453a-a9f8-d810a47966c3",
   "metadata": {
    "tags": []
   },
   "source": [
    "## Flights data"
   ]
  },
  {
   "cell_type": "code",
   "execution_count": null,
   "id": "58861c1c-5642-45cb-85c3-5c627c89733b",
   "metadata": {},
   "outputs": [],
   "source": [
    "import pandas as pd\n",
    "from datetime import datetime, date, timedelta\n",
    "import requests\n",
    "from pytz import timezone\n",
    "\n",
    "def tomorrows_flight_arrivals(icao_list):\n",
    "  # Get today's date in Berlin timezone\n",
    "  today = datetime.now().astimezone(timezone('Europe/Berlin')).date()\n",
    "  # Calculate tomorrow's date\n",
    "  tomorrow = (today + timedelta(days=1))\n",
    "\n",
    "  # Initialize an empty list to store flight data\n",
    "  list_for_df = []\n",
    "\n",
    "  # Loop over each ICAO code in the input list\n",
    "  for icao in icao_list:\n",
    "    # Define the two time periods for which to fetch data\n",
    "    times = [[\"00:00\",\"11:59\"],[\"12:00\",\"23:59\"]]\n",
    "\n",
    "    # Loop over each time period\n",
    "    for time in times:\n",
    "      # Construct the URL for the API request\n",
    "      url = f\"https://aerodatabox.p.rapidapi.com/flights/airports/icao/{icao}/{tomorrow}T{time[0]}/{tomorrow}T{time[1]}\"\n",
    "      # Define the query parameters for the API request\n",
    "      querystring = {\"withLeg\":\"true\",\"direction\":\"Arrival\",\"withCancelled\":\"false\",\"withCodeshared\":\"true\",\"withCargo\":\"false\",\"withPrivate\":\"false\"}\n",
    "      # Define the headers for the API request\n",
    "      headers = {\n",
    "          'x-rapidapi-host': \"aerodatabox.p.rapidapi.com\",\n",
    "          'x-rapidapi-key': \"ENTER_YOUR_KEY\"\n",
    "          }\n",
    "        \n",
    "        \n",
    "      # Make the API request\n",
    "      response = requests.request(\"GET\", url, headers=headers, params=querystring)\n",
    "      # Parse the JSON response\n",
    "      flights_json = response.json()\n",
    "\n",
    "      # Loop over each flight in the response\n",
    "      for flight in flights_json['arrivals']:\n",
    "        # Initialize an empty dictionary to store flight data\n",
    "        flights_dict = {}\n",
    "        # Store the ICAO code and flight data in the dictionary\n",
    "        flights_dict['arrival_icao'] = icao\n",
    "        # Use the .get() method to avoid KeyError if a key doesn't exist in the dictionary\n",
    "        flights_dict['arrival_time_local'] = flight['arrival'].get('scheduledTimeLocal', None)\n",
    "        flights_dict['arrival_terminal'] = flight['arrival'].get('terminal', None)\n",
    "        flights_dict['departure_city'] = flight['departure']['airport'].get('name', None)\n",
    "        flights_dict['departure_icao'] = flight['departure']['airport'].get('icao', None)\n",
    "        flights_dict['departure_time_local'] = flight['departure'].get('scheduledTimeLocal', None)\n",
    "        flights_dict['airline'] = flight['airline'].get('name', None)\n",
    "        flights_dict['flight_number'] = flight.get('number', None)\n",
    "        # Store the current date in Berlin timezone\n",
    "        flights_dict['data_retrieved_on'] = datetime.now().astimezone(timezone('Europe/Berlin')).date()\n",
    "        # Append the flight dictionary to the list\n",
    "        list_for_df.append(flights_dict)\n",
    "\n",
    "  # Convert the list of flight dictionaries to a DataFrame and return it\n",
    "  return pd.DataFrame(list_for_df)\n"
   ]
  },
  {
   "cell_type": "code",
   "execution_count": null,
   "id": "bc5ed0db-edbb-4b54-886e-111249198dfb",
   "metadata": {},
   "outputs": [],
   "source": [
    "# trial for 2 airports\n",
    "\n",
    "tomorrows_flight_arrivals(['EDDB', 'EGLL'])"
   ]
  }
 ],
 "metadata": {
  "kernelspec": {
   "display_name": "Python 3 (ipykernel)",
   "language": "python",
   "name": "python3"
  },
  "language_info": {
   "codemirror_mode": {
    "name": "ipython",
    "version": 3
   },
   "file_extension": ".py",
   "mimetype": "text/x-python",
   "name": "python",
   "nbconvert_exporter": "python",
   "pygments_lexer": "ipython3",
   "version": "3.9.13"
  }
 },
 "nbformat": 4,
 "nbformat_minor": 5
}
