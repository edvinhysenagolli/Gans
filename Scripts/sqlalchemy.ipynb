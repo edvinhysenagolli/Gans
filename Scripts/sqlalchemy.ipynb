{
 "cells": [
  {
   "cell_type": "markdown",
   "id": "3d877c49-b922-401c-89d8-ee4ba52fba7b",
   "metadata": {},
   "source": [
    "## SqlAlchemy"
   ]
  },
  {
   "cell_type": "code",
   "execution_count": null,
   "id": "d4d57639-41dc-43b0-808a-730c311c5db8",
   "metadata": {},
   "outputs": [],
   "source": [
    "#connecting python with sql \n",
    "import sqlalchemy"
   ]
  },
  {
   "cell_type": "code",
   "execution_count": null,
   "id": "f2eea5df-18fa-4ddc-9cd7-f348f3b91ca4",
   "metadata": {},
   "outputs": [],
   "source": [
    "schema=\"gans_database\" # the database created in MySQL\n",
    "host=\"127.0.0.1\"\n",
    "user=\"YOUR_USER\"\n",
    "password=os.environ.get('sql_pass') #password\n",
    "port=3306\n",
    "con = f'mysql+pymysql://{user}:{password}@{host}:{port}/{schema}'"
   ]
  },
  {
   "cell_type": "code",
   "execution_count": null,
   "id": "9cfab89b-40cb-4243-bf9d-d2205ccaaf01",
   "metadata": {},
   "outputs": [],
   "source": [
    "# this is a trial, just for the weather data, same would be for the other tables\n",
    "\n",
    "weathers_df.to_sql('weathers', # name of the table\n",
    "                 if_exists='replace', \n",
    "                 con=con, \n",
    "                 index=False)"
   ]
  }
 ],
 "metadata": {
  "kernelspec": {
   "display_name": "Python 3 (ipykernel)",
   "language": "python",
   "name": "python3"
  },
  "language_info": {
   "codemirror_mode": {
    "name": "ipython",
    "version": 3
   },
   "file_extension": ".py",
   "mimetype": "text/x-python",
   "name": "python",
   "nbconvert_exporter": "python",
   "pygments_lexer": "ipython3",
   "version": "3.9.13"
  }
 },
 "nbformat": 4,
 "nbformat_minor": 5
}
