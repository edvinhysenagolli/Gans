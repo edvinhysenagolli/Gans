{
 "cells": [
  {
   "cell_type": "markdown",
   "id": "fb5789eb-67ac-4941-afbe-e458fcbeac3c",
   "metadata": {
    "jp-MarkdownHeadingCollapsed": true,
    "tags": []
   },
   "source": [
    "## Retrieving weather data with API"
   ]
  },
  {
   "cell_type": "code",
   "execution_count": null,
   "id": "ad6b3ff7-e0d0-49e2-84b8-a0b6df4d45a6",
   "metadata": {},
   "outputs": [],
   "source": [
    "from datetime import datetime\n",
    "import pytz"
   ]
  },
  {
   "cell_type": "code",
   "execution_count": null,
   "id": "2909dec7-a18a-4b8e-a89e-ff0db01d7995",
   "metadata": {},
   "outputs": [],
   "source": [
    "# here apply your API key\n",
    "API_key = os.environ.get('API_key_weather') "
   ]
  },
  {
   "cell_type": "code",
   "execution_count": null,
   "id": "9d5a1c63-8c91-407b-8b83-ce1c0ade6bfc",
   "metadata": {},
   "outputs": [],
   "source": [
    "def get_weather_data (cities):\n",
    "    \n",
    "    tz = pytz.timezone('Europe/Berlin')\n",
    "    now = datetime.now().astimezone(tz)\n",
    "    \n",
    "    \n",
    "    weather_dict = {'city': [],\n",
    "                'country': [],\n",
    "                'forecast_time': [],\n",
    "                'outlook': [],\n",
    "                'detailed_outlook': [],\n",
    "                'temperature': [],\n",
    "                'temperature_feels_like': [],\n",
    "                'clouds': [],\n",
    "                'rain': [],\n",
    "                'snow': [],\n",
    "                'wind_speed': [],\n",
    "                'wind_deg': [],\n",
    "                'humidity': [],\n",
    "                'pressure': [],\n",
    "                'information_retrieved_at': []}\n",
    "    \n",
    "    \n",
    "    for city in cities:\n",
    "        url = (f\"http://api.openweathermap.org/data/2.5/forecast?q={city}&appid={API_key}&units=metric\")\n",
    "        response = requests.get(url)\n",
    "        json = response.json()\n",
    "\n",
    "        for i in json['list']:\n",
    "            weather_dict['city'].append(json['city']['name'])\n",
    "            weather_dict['country'].append(json['city']['country'])\n",
    "            weather_dict['forecast_time'].append(i['dt_txt'])\n",
    "            weather_dict['outlook'].append(i['weather'][0]['main'])\n",
    "            weather_dict['detailed_outlook'].append(i['weather'][0]['description'])\n",
    "            weather_dict['temperature'].append(i['main']['temp'])\n",
    "            weather_dict['temperature_feels_like'].append(i['main']['feels_like'])\n",
    "            weather_dict['clouds'].append(i['clouds']['all'])\n",
    "        \n",
    "            try:\n",
    "                weather_dict['rain'].append(i['rain']['3h'])\n",
    "            except:\n",
    "                weather_dict['rain'].append('0')\n",
    "            try:\n",
    "                weather_dict['snow'].append(i['snow']['3h'])\n",
    "            except:\n",
    "                weather_dict['snow'].append('0')\n",
    "            \n",
    "                weather_dict['wind_speed'].append(i['wind']['speed'])\n",
    "                weather_dict['wind_deg'].append(i['wind']['deg'])\n",
    "                weather_dict['humidity'].append(i['main']['humidity'])\n",
    "                weather_dict['pressure'].append(i['main']['pressure'])\n",
    "                weather_dict['information_retrieved_at'].append(now.strftime(\"%d/%m/%Y %H:%M:%S\"))\n",
    "            \n",
    "            \n",
    "            \n",
    "    return pd.DataFrame(weather_dict)"
   ]
  },
  {
   "cell_type": "code",
   "execution_count": null,
   "id": "cbeb72e5-5801-46a7-a87d-df4426b4ece1",
   "metadata": {},
   "outputs": [],
   "source": [
    "# here, the same list from the web_scraping cities info, can be added\n",
    "get_weather_data(['Berlin'])"
   ]
  },
  {
   "cell_type": "markdown",
   "id": "77d1d992-1a7e-4522-97a2-cfe39b8e4162",
   "metadata": {
    "jp-MarkdownHeadingCollapsed": true,
    "tags": []
   },
   "source": [
    "## Using json_nomalize"
   ]
  },
  {
   "cell_type": "code",
   "execution_count": null,
   "id": "94c75aca-afcc-4c17-af6e-3108634f76f5",
   "metadata": {},
   "outputs": [],
   "source": [
    "def get_weather_norm(cities):\n",
    "    \n",
    "    \n",
    "    df_list = []\n",
    "\n",
    "    for city in cities:\n",
    "        url = (f\"http://api.openweathermap.org/data/2.5/forecast?q={city}&appid={API_key}&units=metric\")\n",
    "        response = requests.get(url)\n",
    "        json = response.json()\n",
    "\n",
    "        json_norm_df = pd.json_normalize(json['list'],\n",
    "                                    record_path=['weather'],\n",
    "                                    meta=['dt_txt', ['main', 'temp'], ['main', 'feels_like'], ['clouds', 'all'], ['rain', '3h'], ['snow', '3h'], ['wind', 'speed'], ['wind', 'deg'], ['main', 'humidity'], ['main', 'pressure']],\n",
    "                                    errors='ignore')\n",
    "        json_norm_df.drop(columns=['id', 'icon'], inplace=True)\n",
    "        json_norm_df.rename(columns={'main': 'outlook',\n",
    "                                 'description': 'detailed_outlook',\n",
    "                                 'dt_txt': 'forecast_time',\n",
    "                                 'main.temp': 'temperature',\n",
    "                                 'main.feels_like': 'temperature_feels_like',\n",
    "                                 'clouds.all': 'clouds',\n",
    "                                 'rain.3h': 'rain',\n",
    "                                 'snow.3h': 'snow',\n",
    "                                 'wind.speed': 'wind_speed',\n",
    "                                 'wind.deg': 'wind_deg',\n",
    "                                 'main.humidity': 'humidity',\n",
    "                                 'main.pressure': 'pressure',},\n",
    "                        inplace=True)\n",
    "        json_norm_df.insert(0, 'city', json['city']['name'])\n",
    "        json_norm_df.insert(1, 'country', json['city']['country'])\n",
    "        json_norm_df['information_retrieved_at'] = now.strftime(\"%d/%m/%Y %H:%M:%S\")\n",
    "        json_norm_df[['city', 'country', 'forecast_time', 'outlook', 'detailed_outlook',\n",
    "              'temperature', 'temperature_feels_like', 'clouds', 'rain', 'snow',\n",
    "              'wind_speed', 'wind_deg', 'humidity', 'pressure',\n",
    "              'information_retrieved_at']]\n",
    "        df_list.append(json_norm_df)\n",
    "        \n",
    "        \n",
    "    return pd.concat(df_list, ignore_index=True)"
   ]
  },
  {
   "cell_type": "code",
   "execution_count": null,
   "id": "5fc8136c-b927-4e72-b2cc-66bca64bd1f2",
   "metadata": {},
   "outputs": [],
   "source": [
    "# here, the same list from the web_scraping cities info, can be added\n",
    "get_weather_data(['Berlin'])"
   ]
  }
 ],
 "metadata": {
  "kernelspec": {
   "display_name": "Python 3 (ipykernel)",
   "language": "python",
   "name": "python3"
  },
  "language_info": {
   "codemirror_mode": {
    "name": "ipython",
    "version": 3
   },
   "file_extension": ".py",
   "mimetype": "text/x-python",
   "name": "python",
   "nbconvert_exporter": "python",
   "pygments_lexer": "ipython3",
   "version": "3.9.13"
  }
 },
 "nbformat": 4,
 "nbformat_minor": 5
}
