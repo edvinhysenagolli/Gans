{
 "cells": [
  {
   "cell_type": "code",
   "execution_count": null,
   "id": "fefb4f12-c5eb-45ae-9ea7-f6f1bd5b9f13",
   "metadata": {},
   "outputs": [],
   "source": [
    "# Import the libraries\n",
    "from dotenv import load_dotenv\n",
    "import os\n",
    "\n",
    "# This part should be implemented after creating an env file with the passwords\n",
    "# The passwords are specific for anyone\n",
    "\n",
    "# Load environment variables from Passwords.env file\n",
    "load_dotenv(\"Passwords.env\")\n",
    "\n",
    "# Access the environment variable\n",
    "password = os.environ.get('sql_pass')\n",
    "API_key_weather = os.environ.get('API_key_weather')\n",
    "API_key_aero = os.environ.get('API_key_aero')\n",
    "# Use the environment variable in your code\n",
    "#print(f\"Password: {password}\")\n",
    "#print(f\"API_key_weather: {API_key_weather}\")\n",
    "#print(f\"API_key_aero: {API_key_aero}\")"
   ]
  }
 ],
 "metadata": {
  "kernelspec": {
   "display_name": "Python 3 (ipykernel)",
   "language": "python",
   "name": "python3"
  },
  "language_info": {
   "codemirror_mode": {
    "name": "ipython",
    "version": 3
   },
   "file_extension": ".py",
   "mimetype": "text/x-python",
   "name": "python",
   "nbconvert_exporter": "python",
   "pygments_lexer": "ipython3",
   "version": "3.9.13"
  }
 },
 "nbformat": 4,
 "nbformat_minor": 5
}
